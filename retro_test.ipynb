{
 "cells": [
  {
   "cell_type": "code",
   "execution_count": 1,
   "id": "720dab60-68b7-42ba-8cbb-181ae5e3b404",
   "metadata": {
    "tags": []
   },
   "outputs": [],
   "source": [
    "from datetime import datetime, timedelta, date\n",
    "import json\n",
    "import matplotlib.dates as mdates\n",
    "import matplotlib.pyplot as plt\n",
    "import numpy as np\n",
    "import pandas as pd\n",
    "import pymongo\n",
    "import seaborn as sns\n",
    "import streamlit as st\n",
    "import random\n",
    "from scipy import interpolate, signal\n",
    "from data_scraper import mumsnet_url_generator, mumsnet_multithread_wrapper, mumsnet_cleaning, filter_out_old_rows, data_export\n",
    "from plotting_streamlit import get_db, data_import, format_for_streamlit"
   ]
  },
  {
   "cell_type": "code",
   "execution_count": 44,
   "id": "a6474504-4406-48d1-9a28-6bba169d23fe",
   "metadata": {
    "tags": []
   },
   "outputs": [
    {
     "data": {
      "text/plain": [
       "264    2022-06-02 15:18:00.000\n",
       "278    2022-06-03 06:57:00.000\n",
       "1      2022-06-03 13:29:00.000\n",
       "2      2022-06-04 00:24:00.000\n",
       "3      2022-06-04 09:45:00.000\n",
       "                 ...          \n",
       "3063   2024-01-20 20:27:53.866\n",
       "3064   2024-01-20 20:45:02.997\n",
       "3065   2024-01-21 07:43:04.333\n",
       "3066   2024-01-21 09:45:42.692\n",
       "3067   2024-01-21 09:46:23.528\n",
       "Name: load_ts, Length: 3068, dtype: datetime64[ns]"
      ]
     },
     "execution_count": 44,
     "metadata": {},
     "output_type": "execute_result"
    }
   ],
   "source": [
    "df = data_import(['Times'])\n",
    "df['retro'] = df['retro'].fillna(False)\n",
    "df['retro'] = df['retro'].astype('bool')\n",
    "df[df['retro'] == False]\n",
    "df.load_ts.sort_values()"
   ]
  },
  {
   "cell_type": "code",
   "execution_count": null,
   "id": "b80f2f62-5982-40ae-8ada-82e7c5f8e697",
   "metadata": {},
   "outputs": [],
   "source": []
  },
  {
   "cell_type": "code",
   "execution_count": null,
   "id": "746e1e50-37c7-467b-a59c-8658c27a962f",
   "metadata": {},
   "outputs": [],
   "source": []
  },
  {
   "cell_type": "code",
   "execution_count": 3,
   "id": "3056775a-da0b-4cf1-8206-40fda656d477",
   "metadata": {
    "tags": []
   },
   "outputs": [],
   "source": [
    "include_retro = False\n",
    "mum_selector =False"
   ]
  },
  {
   "cell_type": "code",
   "execution_count": 4,
   "id": "e4a9d668-db62-4e63-bf98-03a035979618",
   "metadata": {
    "tags": []
   },
   "outputs": [],
   "source": [
    "collection_list = ['Times']\n",
    "\n",
    "df = data_import(collection_list)"
   ]
  },
  {
   "cell_type": "code",
   "execution_count": 5,
   "id": "f0bc91fb-2537-435d-9964-e75e58831e04",
   "metadata": {
    "tags": []
   },
   "outputs": [
    {
     "data": {
      "text/html": [
       "<div>\n",
       "<style scoped>\n",
       "    .dataframe tbody tr th:only-of-type {\n",
       "        vertical-align: middle;\n",
       "    }\n",
       "\n",
       "    .dataframe tbody tr th {\n",
       "        vertical-align: top;\n",
       "    }\n",
       "\n",
       "    .dataframe thead th {\n",
       "        text-align: right;\n",
       "    }\n",
       "</style>\n",
       "<table border=\"1\" class=\"dataframe\">\n",
       "  <thead>\n",
       "    <tr style=\"text-align: right;\">\n",
       "      <th></th>\n",
       "      <th>_id</th>\n",
       "      <th>user</th>\n",
       "      <th>time</th>\n",
       "      <th>load_ts</th>\n",
       "      <th>phone_number</th>\n",
       "      <th>retro</th>\n",
       "      <th>dataset</th>\n",
       "    </tr>\n",
       "  </thead>\n",
       "  <tbody>\n",
       "    <tr>\n",
       "      <th>0</th>\n",
       "      <td>6442cd14e8a2a4be93908aab</td>\n",
       "      <td>Joe</td>\n",
       "      <td>00:07:17</td>\n",
       "      <td>2022-06-08 00:20:00.000</td>\n",
       "      <td>NaN</td>\n",
       "      <td>NaN</td>\n",
       "      <td>Non-Mum</td>\n",
       "    </tr>\n",
       "    <tr>\n",
       "      <th>1</th>\n",
       "      <td>6442cd14e8a2a4be93908aa0</td>\n",
       "      <td>Harvey Williams</td>\n",
       "      <td>00:14:48</td>\n",
       "      <td>2022-06-03 13:29:00.000</td>\n",
       "      <td>NaN</td>\n",
       "      <td>NaN</td>\n",
       "      <td>Non-Mum</td>\n",
       "    </tr>\n",
       "    <tr>\n",
       "      <th>2</th>\n",
       "      <td>6442cd14e8a2a4be93908aa1</td>\n",
       "      <td>Harvey Williams</td>\n",
       "      <td>00:13:16</td>\n",
       "      <td>2022-06-04 00:24:00.000</td>\n",
       "      <td>NaN</td>\n",
       "      <td>NaN</td>\n",
       "      <td>Non-Mum</td>\n",
       "    </tr>\n",
       "    <tr>\n",
       "      <th>3</th>\n",
       "      <td>6442cd14e8a2a4be93908aa2</td>\n",
       "      <td>Joe</td>\n",
       "      <td>00:36:59</td>\n",
       "      <td>2022-06-04 09:45:00.000</td>\n",
       "      <td>NaN</td>\n",
       "      <td>NaN</td>\n",
       "      <td>Non-Mum</td>\n",
       "    </tr>\n",
       "    <tr>\n",
       "      <th>4</th>\n",
       "      <td>6442cd14e8a2a4be93908aa4</td>\n",
       "      <td>Harvey Williams</td>\n",
       "      <td>00:15:14</td>\n",
       "      <td>2022-06-05 01:38:00.000</td>\n",
       "      <td>NaN</td>\n",
       "      <td>NaN</td>\n",
       "      <td>Non-Mum</td>\n",
       "    </tr>\n",
       "    <tr>\n",
       "      <th>...</th>\n",
       "      <td>...</td>\n",
       "      <td>...</td>\n",
       "      <td>...</td>\n",
       "      <td>...</td>\n",
       "      <td>...</td>\n",
       "      <td>...</td>\n",
       "      <td>...</td>\n",
       "    </tr>\n",
       "    <tr>\n",
       "      <th>3061</th>\n",
       "      <td>65aba3cd87a6a6b274e95e3c</td>\n",
       "      <td>Tom</td>\n",
       "      <td>01:39</td>\n",
       "      <td>2024-01-20 10:43:25.480</td>\n",
       "      <td>447734470611</td>\n",
       "      <td>NaN</td>\n",
       "      <td>Non-Mum</td>\n",
       "    </tr>\n",
       "    <tr>\n",
       "      <th>3062</th>\n",
       "      <td>65ac2a2b87a6a6b274e95e42</td>\n",
       "      <td>Joe Wood</td>\n",
       "      <td>01:09</td>\n",
       "      <td>2024-01-20 20:16:43.015</td>\n",
       "      <td>447969445849</td>\n",
       "      <td>NaN</td>\n",
       "      <td>Mum</td>\n",
       "    </tr>\n",
       "    <tr>\n",
       "      <th>3063</th>\n",
       "      <td>65ac2cc987a6a6b274e95e46</td>\n",
       "      <td>Oliver Folkard</td>\n",
       "      <td>01:13</td>\n",
       "      <td>2024-01-20 20:27:53.866</td>\n",
       "      <td>447400975974</td>\n",
       "      <td>NaN</td>\n",
       "      <td>Non-Mum</td>\n",
       "    </tr>\n",
       "    <tr>\n",
       "      <th>3064</th>\n",
       "      <td>65ac30ce87a6a6b274e95e4d</td>\n",
       "      <td>Jenn</td>\n",
       "      <td>03:31</td>\n",
       "      <td>2024-01-20 20:45:02.997</td>\n",
       "      <td>447762793959</td>\n",
       "      <td>NaN</td>\n",
       "      <td>Mum</td>\n",
       "    </tr>\n",
       "    <tr>\n",
       "      <th>3065</th>\n",
       "      <td>65accb0887a6a6b274e95e52</td>\n",
       "      <td>Tom</td>\n",
       "      <td>03:08</td>\n",
       "      <td>2024-01-21 07:43:04.333</td>\n",
       "      <td>447734470611</td>\n",
       "      <td>NaN</td>\n",
       "      <td>Non-Mum</td>\n",
       "    </tr>\n",
       "  </tbody>\n",
       "</table>\n",
       "<p>3066 rows × 7 columns</p>\n",
       "</div>"
      ],
      "text/plain": [
       "                           _id             user      time  \\\n",
       "0     6442cd14e8a2a4be93908aab              Joe  00:07:17   \n",
       "1     6442cd14e8a2a4be93908aa0  Harvey Williams  00:14:48   \n",
       "2     6442cd14e8a2a4be93908aa1  Harvey Williams  00:13:16   \n",
       "3     6442cd14e8a2a4be93908aa2              Joe  00:36:59   \n",
       "4     6442cd14e8a2a4be93908aa4  Harvey Williams  00:15:14   \n",
       "...                        ...              ...       ...   \n",
       "3061  65aba3cd87a6a6b274e95e3c              Tom     01:39   \n",
       "3062  65ac2a2b87a6a6b274e95e42         Joe Wood     01:09   \n",
       "3063  65ac2cc987a6a6b274e95e46   Oliver Folkard     01:13   \n",
       "3064  65ac30ce87a6a6b274e95e4d             Jenn     03:31   \n",
       "3065  65accb0887a6a6b274e95e52              Tom     03:08   \n",
       "\n",
       "                     load_ts  phone_number retro  dataset  \n",
       "0    2022-06-08 00:20:00.000           NaN   NaN  Non-Mum  \n",
       "1    2022-06-03 13:29:00.000           NaN   NaN  Non-Mum  \n",
       "2    2022-06-04 00:24:00.000           NaN   NaN  Non-Mum  \n",
       "3    2022-06-04 09:45:00.000           NaN   NaN  Non-Mum  \n",
       "4    2022-06-05 01:38:00.000           NaN   NaN  Non-Mum  \n",
       "...                      ...           ...   ...      ...  \n",
       "3061 2024-01-20 10:43:25.480  447734470611   NaN  Non-Mum  \n",
       "3062 2024-01-20 20:16:43.015  447969445849   NaN      Mum  \n",
       "3063 2024-01-20 20:27:53.866  447400975974   NaN  Non-Mum  \n",
       "3064 2024-01-20 20:45:02.997  447762793959   NaN      Mum  \n",
       "3065 2024-01-21 07:43:04.333  447734470611   NaN  Non-Mum  \n",
       "\n",
       "[3066 rows x 7 columns]"
      ]
     },
     "execution_count": 5,
     "metadata": {},
     "output_type": "execute_result"
    }
   ],
   "source": [
    "df"
   ]
  },
  {
   "cell_type": "code",
   "execution_count": null,
   "id": "cce0d1ce-c35e-4231-997c-00bc6d95643d",
   "metadata": {
    "tags": []
   },
   "outputs": [],
   "source": []
  },
  {
   "cell_type": "code",
   "execution_count": 6,
   "id": "370d2599-5f60-4aec-9010-c8c5cc9b34ed",
   "metadata": {
    "tags": []
   },
   "outputs": [
    {
     "data": {
      "text/plain": [
       "0       NaN\n",
       "1       NaN\n",
       "2       NaN\n",
       "3       NaN\n",
       "4       NaN\n",
       "       ... \n",
       "3061    NaN\n",
       "3062    NaN\n",
       "3063    NaN\n",
       "3064    NaN\n",
       "3065    NaN\n",
       "Name: retro, Length: 3066, dtype: object"
      ]
     },
     "execution_count": 6,
     "metadata": {},
     "output_type": "execute_result"
    }
   ],
   "source": [
    "#df['retro'] = df['retro'].fillna('False')\n",
    "df.retro"
   ]
  },
  {
   "cell_type": "code",
   "execution_count": null,
   "id": "af2e61af-bb79-4cc9-a572-6de0d37b0ea2",
   "metadata": {},
   "outputs": [],
   "source": []
  }
 ],
 "metadata": {
  "kernelspec": {
   "display_name": "Python 3 (ipykernel)",
   "language": "python",
   "name": "python3"
  },
  "language_info": {
   "codemirror_mode": {
    "name": "ipython",
    "version": 3
   },
   "file_extension": ".py",
   "mimetype": "text/x-python",
   "name": "python",
   "nbconvert_exporter": "python",
   "pygments_lexer": "ipython3",
   "version": "3.10.12"
  }
 },
 "nbformat": 4,
 "nbformat_minor": 5
}
