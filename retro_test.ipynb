{
 "cells": [
  {
   "cell_type": "code",
   "execution_count": 1,
   "id": "720dab60-68b7-42ba-8cbb-181ae5e3b404",
   "metadata": {
    "tags": []
   },
   "outputs": [],
   "source": [
    "from datetime import datetime, timedelta, date\n",
    "import json\n",
    "import matplotlib.dates as mdates\n",
    "import matplotlib.pyplot as plt\n",
    "import numpy as np\n",
    "import pandas as pd\n",
    "import pymongo\n",
    "import seaborn as sns\n",
    "import streamlit as st\n",
    "import random\n",
    "from scipy import interpolate, signal\n",
    "import data_scraper"
   ]
  },
  {
   "cell_type": "code",
   "execution_count": 6,
   "id": "f402036e-9dff-4e55-878c-fb546644fefc",
   "metadata": {
    "tags": []
   },
   "outputs": [
    {
     "name": "stdout",
     "output_type": "stream",
     "text": [
      "/bin/bash: line 1: python: command not found\n"
     ]
    }
   ],
   "source": [
    "!python 'data_scraper.py'"
   ]
  },
  {
   "cell_type": "code",
   "execution_count": null,
   "id": "ca8b325f-e290-49e8-96f5-0bb721503a2b",
   "metadata": {},
   "outputs": [],
   "source": []
  }
 ],
 "metadata": {
  "kernelspec": {
   "display_name": "Python 3 (ipykernel)",
   "language": "python",
   "name": "python3"
  },
  "language_info": {
   "codemirror_mode": {
    "name": "ipython",
    "version": 3
   },
   "file_extension": ".py",
   "mimetype": "text/x-python",
   "name": "python",
   "nbconvert_exporter": "python",
   "pygments_lexer": "ipython3",
   "version": "3.10.12"
  }
 },
 "nbformat": 4,
 "nbformat_minor": 5
}
