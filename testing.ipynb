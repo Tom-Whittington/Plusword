{
 "cells": [
  {
   "cell_type": "code",
   "execution_count": 15,
   "id": "1019cdfd-68e6-4dbb-ba3b-e8e5a2ed2f75",
   "metadata": {
    "tags": []
   },
   "outputs": [],
   "source": [
    "import base64\n",
    "from datetime import datetime, timedelta, date\n",
    "import json\n",
    "import matplotlib.dates as mdates\n",
    "import matplotlib.pyplot as plt\n",
    "import numpy as np\n",
    "import pandas as pd\n",
    "import pymongo\n",
    "import seaborn as sns\n",
    "import streamlit as st\n",
    "import random\n",
    "from scipy import interpolate, signal\n",
    "from data_scraper import mumsnet_url_generator, mumsnet_multithread_wrapper, mumsnet_cleaning, filter_out_old_rows, data_export\n",
    "from plotting_streamlit import get_db, data_import"
   ]
  },
  {
   "cell_type": "code",
   "execution_count": 2,
   "id": "c00824af-47aa-40f0-83fc-ff26855d9311",
   "metadata": {
    "tags": []
   },
   "outputs": [
    {
     "name": "stdout",
     "output_type": "stream",
     "text": [
      "%cache magic is now registered in ipython\n"
     ]
    }
   ],
   "source": [
    "import cache_magic #pip install ipython_cache"
   ]
  },
  {
   "cell_type": "code",
   "execution_count": 3,
   "id": "12034bbb-bdd9-48bd-8eb4-3d4db99742fc",
   "metadata": {
    "tags": []
   },
   "outputs": [],
   "source": [
    "url_list=mumsnet_url_generator()"
   ]
  },
  {
   "cell_type": "code",
   "execution_count": 4,
   "id": "6b20c0fd-15a8-4e87-8543-196a8ab92294",
   "metadata": {
    "tags": []
   },
   "outputs": [
    {
     "name": "stdout",
     "output_type": "stream",
     "text": [
      "loading cached value for variable 'df_raw'. Time since pickling  4:40:25.491305\n"
     ]
    }
   ],
   "source": [
    "%cache df_raw = mumsnet_multithread_wrapper(url_list)"
   ]
  },
  {
   "cell_type": "code",
   "execution_count": 5,
   "id": "f271022b-6e26-4dbe-b274-2f85365f792e",
   "metadata": {
    "tags": []
   },
   "outputs": [
    {
     "data": {
      "text/html": [
       "<div>\n",
       "<style scoped>\n",
       "    .dataframe tbody tr th:only-of-type {\n",
       "        vertical-align: middle;\n",
       "    }\n",
       "\n",
       "    .dataframe tbody tr th {\n",
       "        vertical-align: top;\n",
       "    }\n",
       "\n",
       "    .dataframe thead th {\n",
       "        text-align: right;\n",
       "    }\n",
       "</style>\n",
       "<table border=\"1\" class=\"dataframe\">\n",
       "  <thead>\n",
       "    <tr style=\"text-align: right;\">\n",
       "      <th></th>\n",
       "      <th>user</th>\n",
       "      <th>date</th>\n",
       "      <th>time</th>\n",
       "      <th>text</th>\n",
       "    </tr>\n",
       "  </thead>\n",
       "  <tbody>\n",
       "    <tr>\n",
       "      <th>0</th>\n",
       "      <td>Sunbird24</td>\n",
       "      <td>18/03/2023</td>\n",
       "      <td>07:29</td>\n",
       "      <td>Previous thread: www.mumsnet.com/talk/_chat/47...</td>\n",
       "    </tr>\n",
       "    <tr>\n",
       "      <th>1</th>\n",
       "      <td>bruffin</td>\n",
       "      <td>19/03/2023</td>\n",
       "      <td>19:16</td>\n",
       "      <td>marking my spot Add message Thanks Save Share ...</td>\n",
       "    </tr>\n",
       "    <tr>\n",
       "      <th>2</th>\n",
       "      <td>MarmiteWine</td>\n",
       "      <td>19/03/2023</td>\n",
       "      <td>20:38</td>\n",
       "      <td>00:45 today Add message Thanks Save Share Repl...</td>\n",
       "    </tr>\n",
       "    <tr>\n",
       "      <th>3</th>\n",
       "      <td>Drywhitefruitycidergin</td>\n",
       "      <td>20/03/2023</td>\n",
       "      <td>00:54</td>\n",
       "      <td>⏱️ I just completed PlusWord in 02:47 www.tele...</td>\n",
       "    </tr>\n",
       "    <tr>\n",
       "      <th>4</th>\n",
       "      <td>Drywhitefruitycidergin</td>\n",
       "      <td>20/03/2023</td>\n",
       "      <td>00:55</td>\n",
       "      <td>*thread ffs - that's why I'm so slow at pw too...</td>\n",
       "    </tr>\n",
       "    <tr>\n",
       "      <th>...</th>\n",
       "      <td>...</td>\n",
       "      <td>...</td>\n",
       "      <td>...</td>\n",
       "      <td>...</td>\n",
       "    </tr>\n",
       "    <tr>\n",
       "      <th>1494</th>\n",
       "      <td>AngeloMysterioso</td>\n",
       "      <td>Yesterday</td>\n",
       "      <td>18:40</td>\n",
       "      <td>I have absolutely no clue what the PW is Add m...</td>\n",
       "    </tr>\n",
       "    <tr>\n",
       "      <th>1495</th>\n",
       "      <td>IMustDoMoreExercise</td>\n",
       "      <td>Yesterday</td>\n",
       "      <td>21:11</td>\n",
       "      <td>AngeloMysterioso · Yesterday 18:40 I have abso...</td>\n",
       "    </tr>\n",
       "    <tr>\n",
       "      <th>1496</th>\n",
       "      <td>mayastern</td>\n",
       "      <td>Yesterday</td>\n",
       "      <td>21:34</td>\n",
       "      <td>⏱️ I just completed PlusWord in 02:56 www.tele...</td>\n",
       "    </tr>\n",
       "    <tr>\n",
       "      <th>1497</th>\n",
       "      <td>MarmiteWine</td>\n",
       "      <td>Yesterday</td>\n",
       "      <td>22:51</td>\n",
       "      <td>⏱️ I just completed PlusWord No. 607 in 01:03 ...</td>\n",
       "    </tr>\n",
       "    <tr>\n",
       "      <th>1498</th>\n",
       "      <td>Sunbird24</td>\n",
       "      <td>Today</td>\n",
       "      <td>13:55</td>\n",
       "      <td>⏱️ I just completed PlusWord in 00:44 https://...</td>\n",
       "    </tr>\n",
       "  </tbody>\n",
       "</table>\n",
       "<p>1499 rows × 4 columns</p>\n",
       "</div>"
      ],
      "text/plain": [
       "                        user        date   time  \\\n",
       "0                  Sunbird24  18/03/2023  07:29   \n",
       "1                    bruffin  19/03/2023  19:16   \n",
       "2                MarmiteWine  19/03/2023  20:38   \n",
       "3     Drywhitefruitycidergin  20/03/2023  00:54   \n",
       "4     Drywhitefruitycidergin  20/03/2023  00:55   \n",
       "...                      ...         ...    ...   \n",
       "1494        AngeloMysterioso   Yesterday  18:40   \n",
       "1495     IMustDoMoreExercise   Yesterday  21:11   \n",
       "1496               mayastern   Yesterday  21:34   \n",
       "1497             MarmiteWine   Yesterday  22:51   \n",
       "1498               Sunbird24       Today  13:55   \n",
       "\n",
       "                                                   text  \n",
       "0     Previous thread: www.mumsnet.com/talk/_chat/47...  \n",
       "1     marking my spot Add message Thanks Save Share ...  \n",
       "2     00:45 today Add message Thanks Save Share Repl...  \n",
       "3     ⏱️ I just completed PlusWord in 02:47 www.tele...  \n",
       "4     *thread ffs - that's why I'm so slow at pw too...  \n",
       "...                                                 ...  \n",
       "1494  I have absolutely no clue what the PW is Add m...  \n",
       "1495  AngeloMysterioso · Yesterday 18:40 I have abso...  \n",
       "1496  ⏱️ I just completed PlusWord in 02:56 www.tele...  \n",
       "1497  ⏱️ I just completed PlusWord No. 607 in 01:03 ...  \n",
       "1498  ⏱️ I just completed PlusWord in 00:44 https://...  \n",
       "\n",
       "[1499 rows x 4 columns]"
      ]
     },
     "execution_count": 5,
     "metadata": {},
     "output_type": "execute_result"
    }
   ],
   "source": [
    "df_raw"
   ]
  },
  {
   "cell_type": "code",
   "execution_count": 10,
   "id": "d6ef2a5e-6d54-44f3-9454-9f89009e7426",
   "metadata": {
    "tags": []
   },
   "outputs": [
    {
     "data": {
      "text/plain": [
       "Index(['load_ts', 'time', 'user'], dtype='object')"
      ]
     },
     "execution_count": 10,
     "metadata": {},
     "output_type": "execute_result"
    }
   ],
   "source": [
    "df_clean = mumsnet_cleaning(df_raw)"
   ]
  },
  {
   "cell_type": "code",
   "execution_count": 12,
   "id": "28c02e23-8ee3-465a-8cad-2216ea60aab6",
   "metadata": {
    "tags": []
   },
   "outputs": [
    {
     "data": {
      "text/plain": [
       "Index(['load_ts', 'user', 'time'], dtype='object')"
      ]
     },
     "execution_count": 12,
     "metadata": {},
     "output_type": "execute_result"
    }
   ],
   "source": [
    "df = filter_out_old_rows(df_clean, ['Times', 'Mumsnet_Times'], ['load_ts', 'user'])\n"
   ]
  },
  {
   "cell_type": "code",
   "execution_count": 16,
   "id": "1ec71a89-747e-492f-9f54-8034ee10cd4c",
   "metadata": {},
   "outputs": [
    {
     "name": "stdout",
     "output_type": "stream",
     "text": [
      "542 records exported to Mumsnet_Times database\n"
     ]
    }
   ],
   "source": [
    "data_export(df, 'Mumsnet_Times')"
   ]
  },
  {
   "cell_type": "code",
   "execution_count": null,
   "id": "0ef3279a-46bc-4a7b-9ec3-d663dc8f7c42",
   "metadata": {},
   "outputs": [],
   "source": []
  }
 ],
 "metadata": {
  "kernelspec": {
   "display_name": "Python 3 (ipykernel)",
   "language": "python",
   "name": "python3"
  },
  "language_info": {
   "codemirror_mode": {
    "name": "ipython",
    "version": 3
   },
   "file_extension": ".py",
   "mimetype": "text/x-python",
   "name": "python",
   "nbconvert_exporter": "python",
   "pygments_lexer": "ipython3",
   "version": "3.10.12"
  }
 },
 "nbformat": 4,
 "nbformat_minor": 5
}
