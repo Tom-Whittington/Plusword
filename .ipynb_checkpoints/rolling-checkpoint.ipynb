{
 "cells": [
  {
   "cell_type": "code",
   "execution_count": 1,
   "id": "21703451-fbd3-4421-b2e2-47dbf367ebde",
   "metadata": {},
   "outputs": [
    {
     "name": "stdout",
     "output_type": "stream",
     "text": [
      "%cache magic is now registered in ipython\n"
     ]
    }
   ],
   "source": [
    "import pandas as pd\n",
    "import json\n",
    "import pymongo\n",
    "import matplotlib.dates as mdates\n",
    "from datetime import datetime, date\n",
    "import matplotlib.pyplot as plt\n",
    "import seaborn as sns\n",
    "import numpy as np\n",
    "import random\n",
    "import cache_magic\n",
    "from datetime import timedelta\n",
    "\n",
    "pd.options.mode.chained_assignment = None"
   ]
  },
  {
   "cell_type": "code",
   "execution_count": 2,
   "id": "cfcfc12e-4a50-487e-8e8a-5a3487aa1a70",
   "metadata": {},
   "outputs": [],
   "source": [
    "def data_import(include_mums=False):\n",
    "    \"\"\"Connects to database and creates dataframe containing all columns. Drops unneeded columns and sets timestamp\n",
    "     datatype. Correct any incorrect time values, sets data times and sorts\"\"\"\n",
    "\n",
    "    collection_list=['Times']\n",
    "    \n",
    "    if include_mums:\n",
    "        collection_list.append('Mumsnet_Times')\n",
    "    all_records = []\n",
    "\n",
    "    # Connects to db and gets collection\n",
    "    db = get_db()\n",
    "\n",
    "    for collection in collection_list:\n",
    "        records =list(db[collection].find())\n",
    "        all_records.append(records)\n",
    "    \n",
    "    #Flattens list\n",
    "    all_records = [val for sublist in all_records for val in sublist]\n",
    "    \n",
    "    df=pd.DataFrame(all_records)\n",
    "    \n",
    "    # Makes column to indicate which database times are from\n",
    "    non_mums = ['Harvey Williams', 'Sazzle', 'Leah', 'Tom', 'Joe', 'George Sheen', 'Oliver Folkard'] \n",
    "    df['mum'] = np.where(df['user'].isin(non_mums), False, True)\n",
    "    \n",
    "    return df"
   ]
  },
  {
   "cell_type": "code",
   "execution_count": 3,
   "id": "f5436563-9721-40f2-8b30-e8d1a07de1f7",
   "metadata": {},
   "outputs": [],
   "source": [
    "def get_db(write=False):\n",
    "    if write:\n",
    "        connection_string = \"admin_connection_string\"\n",
    "\n",
    "    else:\n",
    "        connection_string = \"connection_string\"\n",
    "\n",
    "    try:\n",
    "        with open(\"local/pass.json\") as file:\n",
    "            file = json.loads(file.read())\n",
    "            connection_string = file.get(connection_string)\n",
    "            client = pymongo.MongoClient(\n",
    "                connection_string)\n",
    "            db = client[\"PlusWord\"]\n",
    "            return db\n",
    "    except Exception as e:\n",
    "        print(e)"
   ]
  },
  {
   "cell_type": "code",
   "execution_count": 4,
   "id": "3e3a5e91-ebf1-440a-9302-a3e0ac050cfb",
   "metadata": {},
   "outputs": [],
   "source": [
    "def format_for_streamlit(df):\n",
    "    \"\"\"Makes df more readable, converts times into plottable numbers and sets index\"\"\"\n",
    "\n",
    "    df = df[['load_ts', 'time', 'user']]\n",
    "    df['time'] = df['time'].str.replace(r'(^\\d\\d:\\d\\d$)', r'00:\\1', regex=True)\n",
    "    df['load_ts'] = pd.to_datetime(df['load_ts'], format='%Y-%m-%d %H:%M:%S.%f')\n",
    "    # df['user'] = df['user'].astype('category')\n",
    "    df = df.sort_values(by=['load_ts'])\n",
    "    df = df.rename(columns={'load_ts': 'timestamp'})\n",
    "    df['time_delta'] = pd.to_timedelta(df['time'].astype('timedelta64[ns]'))\n",
    "    df['time_delta_as_num'] = time_delta_to_num(pd.to_timedelta(df['time'].astype('string')))\n",
    "    df['sub_time_delta_as_num'] = time_delta_to_num(pd.to_timedelta(df['timestamp'].dt.time.astype('string')))\n",
    "\n",
    "\n",
    "    df = df.set_index('timestamp')\n",
    "    df = df.sort_index(ascending=False)\n",
    "\n",
    "    return df"
   ]
  },
  {
   "cell_type": "code",
   "execution_count": 5,
   "id": "7f08847c-96e9-49f9-83c7-fa45996bb559",
   "metadata": {},
   "outputs": [],
   "source": [
    "def format_for_streamlit(df):\n",
    "    \"\"\"Makes df more readable, converts times into plottable numbers and sets index\"\"\"\n",
    "\n",
    "    df = df[['load_ts', 'time', 'user', 'mum']]\n",
    "    df['time'] = df['time'].str.replace(r'(^\\d\\d:\\d\\d$)', r'00:\\1', regex=True)\n",
    "    df['load_ts'] = pd.to_datetime(df['load_ts'], format='%Y-%m-%d %H:%M:%S.%f')\n",
    "    # df['user'] = df['user'].astype('category')\n",
    "    df = df.sort_values(by=['load_ts'])\n",
    "    df = df.rename(columns={'load_ts': 'timestamp'})\n",
    "    df['time_delta'] = pd.to_timedelta(df['time'].astype('timedelta64[ns]'))\n",
    "    df['time_delta_as_num'] = time_delta_to_num(pd.to_timedelta(df['time'].astype('string')))\n",
    "    df['sub_time_delta_as_num'] = time_delta_to_num(pd.to_timedelta(df['timestamp'].dt.time.astype('string')))\n",
    "\n",
    "\n",
    "    df = df.set_index('timestamp')\n",
    "    df = df.sort_index(ascending=False)\n",
    "\n",
    "    return df\n"
   ]
  },
  {
   "cell_type": "code",
   "execution_count": 6,
   "id": "c82992a0-b149-4913-ae9a-042d86d89f94",
   "metadata": {},
   "outputs": [],
   "source": [
    "def time_delta_to_num(time_delta):\n",
    "    \"\"\" Takes in time delta and converts it into a number for plotting\"\"\"\n",
    "\n",
    "    # specify a date to use for the times\n",
    "\n",
    "    zero_date = datetime(2022, 6, 20)\n",
    "\n",
    "    zero_num = mdates.date2num(zero_date)\n",
    "\n",
    "    # adds zero_data to timedelta to convert\n",
    "\n",
    "    time_delta_plus_date = [zero_date + time_unit for time_unit in time_delta]\n",
    "\n",
    "    # convert datetimes to numbers\n",
    "\n",
    "    time_delta_as_num = [mins - zero_num for mins in mdates.date2num(time_delta_plus_date)]\n",
    "\n",
    "    return time_delta_as_num"
   ]
  },
  {
   "cell_type": "code",
   "execution_count": 7,
   "id": "9b71543a-4f52-438e-8db2-98d8e872d1a8",
   "metadata": {},
   "outputs": [],
   "source": [
    "def spline_smooth(df, poly_value):\n",
    "    \"\"\"Smooths lines via interpolation and splines. Purely cosmetic\"\"\"\n",
    "\n",
    "    df_spline = df.copy()\n",
    "\n",
    "    df_spline['date_as_num'] = mdates.date2num(df_spline['timestamp'])\n",
    "\n",
    "    x_smooth = np.linspace(df_spline['date_as_num'].min(), df_spline['date_as_num'].max(), poly_value)\n",
    "\n",
    "    bspline = interpolate.make_interp_spline(df_spline['date_as_num'], df_spline['time_delta_as_num'])\n",
    "\n",
    "    y_smooth = bspline(x_smooth)\n",
    "\n",
    "    return x_smooth, y_smooth"
   ]
  },
  {
   "cell_type": "code",
   "execution_count": 8,
   "id": "a93b3dae-d593-45b4-af0f-02204f0182a2",
   "metadata": {},
   "outputs": [],
   "source": [
    "def savgol_smooth(df, poly_value):\n",
    "    \"\"\"Smooths lines using a Savitzky–Golay filter\"\"\"\n",
    "\n",
    "    df_savgol = df.copy()\n",
    "\n",
    "    df_savgol['date_as_num'] = mdates.date2num(df_savgol['timestamp'])\n",
    "\n",
    "    max_window = len(df_savgol)\n",
    "\n",
    "    x_smooth = signal.savgol_filter(df_savgol['date_as_num'], max_window, poly_value)\n",
    "\n",
    "    y_smooth = signal.savgol_filter(df_savgol['time_delta_as_num'], max_window, poly_value)\n",
    "\n",
    "    return x_smooth, y_smooth"
   ]
  },
  {
   "cell_type": "code",
   "execution_count": 9,
   "id": "b0635872-268c-4952-8acc-2a9f3aa56480",
   "metadata": {
    "tags": []
   },
   "outputs": [],
   "source": [
    "def y_axis_generator(max_y_value, unit):\n",
    "    \"\"\"Creates range for y axis from 0 to max_y_value then passes it to time_delta_to_num. Returns y axis values as\n",
    "    plottable number\"\"\"\n",
    "\n",
    "    y_axis_time_range = list(range(0, max_y_value, 1))\n",
    "\n",
    "    y_axis_time_delta = pd.to_timedelta(y_axis_time_range, unit=unit)\n",
    "\n",
    "    y_axis_time_num = time_delta_to_num(y_axis_time_delta)\n",
    "\n",
    "    return y_axis_time_num"
   ]
  },
  {
   "cell_type": "code",
   "execution_count": 10,
   "id": "7011cee3-5282-4038-98fd-99a068c11d99",
   "metadata": {},
   "outputs": [],
   "source": [
    "def calculate_streak(df):\n",
    "\n",
    "    df_streak = df.copy()\n",
    "\n",
    "    df_streak['date'] = pd.to_datetime(df_streak.index.date)\n",
    "\n",
    "    df_streak = df_streak[['user', 'date']]\n",
    "\n",
    "    users = df_streak['user'].unique()\n",
    "\n",
    "    df_whole = pd.DataFrame()\n",
    "\n",
    "    for user in users:\n",
    "        df_each_user = df_streak[df_streak['user'] == user]\n",
    "\n",
    "        df_each_user = df_each_user.sort_values('date').drop_duplicates(subset='date')\n",
    "        df_each_user['diff'] = df_each_user[\"date\"].diff().dt.days\n",
    "        df_each_user['diff'] = df_each_user['diff'].fillna(0)\n",
    "\n",
    "        df_each_user['streak'] = np.where(df_each_user['diff'] > 1, 0, df_each_user['diff'])\n",
    "        streak_break = df_each_user[df_each_user['streak'] == 0]\n",
    "        streak_break['streak_start'] = streak_break.index.date\n",
    "\n",
    "        df_each_user = pd.merge_asof(df_each_user, streak_break['streak_start'],\n",
    "                                     left_index=True, right_index=True,\n",
    "                                     direction='backward')\n",
    "\n",
    "        df_each_user['streak'] = (df_each_user['date'].dt.date - df_each_user['streak_start']).dt.days\n",
    "        df_each_user['streak'] = df_each_user['streak'] + 1\n",
    "        df_each_user = df_each_user.drop(columns=['streak_start','date', 'diff'])\n",
    "        df_whole = pd.concat([df_whole, df_each_user])\n",
    "\n",
    "    df_whole = df_whole.sort_values(by=['user'])\n",
    "\n",
    "    return df_whole"
   ]
  },
  {
   "cell_type": "code",
   "execution_count": 11,
   "id": "662978ca-f6bd-477d-9c6c-8590307e2181",
   "metadata": {
    "tags": []
   },
   "outputs": [],
   "source": [
    "df = data_import(include_mums=True)\n",
    "df = format_for_streamlit(df)\n",
    "df = calculate_streak(df)"
   ]
  },
  {
   "cell_type": "code",
   "execution_count": 12,
   "id": "dd83fef5-270d-48a0-b968-c1774e677b46",
   "metadata": {
    "tags": []
   },
   "outputs": [
    {
     "data": {
      "text/html": [
       "<div>\n",
       "<style scoped>\n",
       "    .dataframe tbody tr th:only-of-type {\n",
       "        vertical-align: middle;\n",
       "    }\n",
       "\n",
       "    .dataframe tbody tr th {\n",
       "        vertical-align: top;\n",
       "    }\n",
       "\n",
       "    .dataframe thead th {\n",
       "        text-align: right;\n",
       "    }\n",
       "</style>\n",
       "<table border=\"1\" class=\"dataframe\">\n",
       "  <thead>\n",
       "    <tr style=\"text-align: right;\">\n",
       "      <th></th>\n",
       "      <th>user</th>\n",
       "      <th>streak</th>\n",
       "    </tr>\n",
       "  </thead>\n",
       "  <tbody>\n",
       "    <tr>\n",
       "      <th>5</th>\n",
       "      <td>Joe</td>\n",
       "      <td>26</td>\n",
       "    </tr>\n",
       "    <tr>\n",
       "      <th>3</th>\n",
       "      <td>George Sheen</td>\n",
       "      <td>10</td>\n",
       "    </tr>\n",
       "    <tr>\n",
       "      <th>8</th>\n",
       "      <td>Sazzle</td>\n",
       "      <td>5</td>\n",
       "    </tr>\n",
       "    <tr>\n",
       "      <th>10</th>\n",
       "      <td>Tom</td>\n",
       "      <td>5</td>\n",
       "    </tr>\n",
       "    <tr>\n",
       "      <th>0</th>\n",
       "      <td>Albaniarocks</td>\n",
       "      <td>2</td>\n",
       "    </tr>\n",
       "    <tr>\n",
       "      <th>7</th>\n",
       "      <td>Oliver Folkard</td>\n",
       "      <td>2</td>\n",
       "    </tr>\n",
       "    <tr>\n",
       "      <th>1</th>\n",
       "      <td>Drywhitefruitycidergin</td>\n",
       "      <td>1</td>\n",
       "    </tr>\n",
       "    <tr>\n",
       "      <th>2</th>\n",
       "      <td>Floralnomad</td>\n",
       "      <td>1</td>\n",
       "    </tr>\n",
       "    <tr>\n",
       "      <th>4</th>\n",
       "      <td>Harvey Williams</td>\n",
       "      <td>1</td>\n",
       "    </tr>\n",
       "    <tr>\n",
       "      <th>6</th>\n",
       "      <td>JoyDivisionOvenGlovesx</td>\n",
       "      <td>1</td>\n",
       "    </tr>\n",
       "    <tr>\n",
       "      <th>9</th>\n",
       "      <td>Sunbird24</td>\n",
       "      <td>1</td>\n",
       "    </tr>\n",
       "  </tbody>\n",
       "</table>\n",
       "</div>"
      ],
      "text/plain": [
       "                      user  streak\n",
       "5                      Joe      26\n",
       "3             George Sheen      10\n",
       "8                   Sazzle       5\n",
       "10                     Tom       5\n",
       "0             Albaniarocks       2\n",
       "7           Oliver Folkard       2\n",
       "1   Drywhitefruitycidergin       1\n",
       "2              Floralnomad       1\n",
       "4          Harvey Williams       1\n",
       "6   JoyDivisionOvenGlovesx       1\n",
       "9                Sunbird24       1"
      ]
     },
     "execution_count": 12,
     "metadata": {},
     "output_type": "execute_result"
    }
   ],
   "source": [
    "df_current_streak = df.loc[df.index.date >= date.today() - timedelta(days=1)]\n",
    "df_current_streak = df_current_streak.groupby(df_current_streak['user'])['streak'].max().reset_index()\n",
    "df_current_streak = df_current_streak.sort_values(by='streak', ascending=False)\n",
    "df_current_streak"
   ]
  },
  {
   "cell_type": "code",
   "execution_count": 13,
   "id": "b6aef5a6-e0b7-4a21-ac84-8fea0c0e4bad",
   "metadata": {},
   "outputs": [
    {
     "data": {
      "image/png": "[encoded data removed]",
      "text/plain": [
       "<Figure size 720x360 with 1 Axes>"
      ]
     },
     "metadata": {
      "needs_background": "light"
     },
     "output_type": "display_data"
    }
   ],
   "source": [
    "# Plot\n",
    "\n",
    "fig, ax = plt.subplots(figsize=(10, 5))\n",
    "\n",
    "fig = sns.barplot(data=df_current_streak,\n",
    "                  y='streak',\n",
    "                  x='user'\n",
    "                  ).set(\n",
    "    ylabel='Current streak /days',\n",
    "    xlabel=None)\n",
    "\n",
    "plt.xticks(rotation=0)\n",
    "plt.show()"
   ]
  },
  {
   "cell_type": "code",
   "execution_count": null,
   "id": "b1fe6de5-ddab-4046-9326-54fc918523e3",
   "metadata": {},
   "outputs": [],
   "source": []
  }
 ],
 "metadata": {
  "kernelspec": {
   "display_name": "Python 3 (ipykernel)",
   "language": "python",
   "name": "python3"
  },
  "language_info": {
   "codemirror_mode": {
    "name": "ipython",
    "version": 3
   },
   "file_extension": ".py",
   "mimetype": "text/x-python",
   "name": "python",
   "nbconvert_exporter": "python",
   "pygments_lexer": "ipython3",
   "version": "3.10.6"
  }
 },
 "nbformat": 4,
 "nbformat_minor": 5
}
