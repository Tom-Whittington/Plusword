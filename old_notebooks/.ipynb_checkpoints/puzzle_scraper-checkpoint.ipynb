{
 "cells": [
  {
   "cell_type": "code",
   "execution_count": 13,
   "id": "c031226b-e4e2-4408-8fed-3e559e759f7a",
   "metadata": {
    "tags": []
   },
   "outputs": [],
   "source": [
    "import pandas as pd\n",
    "from bs4 import BeautifulSoup\n",
    "import requests\n",
    "import json\n",
    "from selenium import webdriver\n",
    "from selenium.webdriver.common.by import By\n",
    "from selenium.webdriver.firefox.options import Options\n",
    "import re\n",
    "from mumger import data_export"
   ]
  },
  {
   "cell_type": "code",
   "execution_count": 2,
   "id": "897d043a-4c81-4b8b-8196-3b61085ddee8",
   "metadata": {
    "tags": []
   },
   "outputs": [],
   "source": [
    "url = 'https://puzzles-prod.telegraph.co.uk/plusword/data.json'\n",
    "r_json = requests.get(url).json()\n",
    "\n",
    "row = {'date' : r_json['copy']['date-publish-analytics'][:10],\n",
    "      'puzzle_number' : r_json['meta']['number'],\n",
    "      'plusword_solution' : r_json['settings']['solution']}\n",
    "\n",
    "for direction in ['across', 'down']:\n",
    "    clue_num = 0\n",
    "    for clue in r_json['cluedata'][direction]:\n",
    "        clue_num +=1\n",
    "        row.update({'clue_' + direction + '_' + str(clue_num) :clue})\n",
    "\n",
    "for answer_num in range(1,6):\n",
    "    row.update({'answer_' + str(answer_num) :r_json['celldata'][5*(answer_num-1):(5*answer_num)]})"
   ]
  },
  {
   "cell_type": "code",
   "execution_count": 3,
   "id": "b996c277-9382-469d-8846-da44eb2c1111",
   "metadata": {
    "tags": []
   },
   "outputs": [],
   "source": [
    "url = 'https://puzzles-prod.telegraph.co.uk/plusword/index.html'\n",
    "options = Options()\n",
    "options.add_argument(\"--headless\")\n",
    "driver = webdriver.Firefox(options=options)\n",
    "driver.get(url)\n",
    "element = driver.find_element(By.XPATH, '/html/body/div[2]/div[5]/header/button').click()\n",
    "\n",
    "yellow = []\n",
    "green = []\n",
    "match = 'C\\d*'\n",
    "for table_row in driver.find_elements(By.CLASS_NAME, \"row\"):\n",
    "    for cell in table_row.find_elements(By.TAG_NAME, 'td'):\n",
    "        cell_class = cell.get_attribute(\"class\")\n",
    "                \n",
    "        if 'right-letter-wrong-column' in cell_class:\n",
    "            yellow.append(int(re.search(match, cell_class).group(0).strip('C')) + 1)\n",
    "            \n",
    "        if 'right-letter-right-column' in cell_class:\n",
    "            green.append(int(re.search(match, cell_class).group(0).strip('C')) + 1)\n",
    "            \n",
    "row.update({'yellow' : str(yellow),\n",
    "            'green' : str(green)})"
   ]
  },
  {
   "cell_type": "code",
   "execution_count": 4,
   "id": "f826cdef-de85-464e-b693-18e0bc5ae76d",
   "metadata": {},
   "outputs": [],
   "source": [
    "\n",
    "df = pd.DataFrame.from_dict([row])\n",
    "df['date'] = pd.to_datetime(df['date'], format='%Y-%m-%d')\n",
    "df = df.replace('\"', '', regex=True)\n",
    "df = df.replace(\"&#039\", '', regex=True)\n",
    "df = df.replace(';', '', regex=True)\n"
   ]
  },
  {
   "cell_type": "code",
   "execution_count": 5,
   "id": "49040609-3c82-4881-9909-a401dbea0a30",
   "metadata": {
    "tags": []
   },
   "outputs": [
    {
     "data": {
      "text/html": [
       "<div>\n",
       "<style scoped>\n",
       "    .dataframe tbody tr th:only-of-type {\n",
       "        vertical-align: middle;\n",
       "    }\n",
       "\n",
       "    .dataframe tbody tr th {\n",
       "        vertical-align: top;\n",
       "    }\n",
       "\n",
       "    .dataframe thead th {\n",
       "        text-align: right;\n",
       "    }\n",
       "</style>\n",
       "<table border=\"1\" class=\"dataframe\">\n",
       "  <thead>\n",
       "    <tr style=\"text-align: right;\">\n",
       "      <th></th>\n",
       "      <th>date</th>\n",
       "      <th>puzzle_number</th>\n",
       "      <th>plusword_solution</th>\n",
       "      <th>clue_across_1</th>\n",
       "      <th>clue_across_2</th>\n",
       "      <th>clue_across_3</th>\n",
       "      <th>clue_across_4</th>\n",
       "      <th>clue_across_5</th>\n",
       "      <th>clue_down_1</th>\n",
       "      <th>clue_down_2</th>\n",
       "      <th>clue_down_3</th>\n",
       "      <th>clue_down_4</th>\n",
       "      <th>clue_down_5</th>\n",
       "      <th>answer_1</th>\n",
       "      <th>answer_2</th>\n",
       "      <th>answer_3</th>\n",
       "      <th>answer_4</th>\n",
       "      <th>answer_5</th>\n",
       "      <th>yellow</th>\n",
       "      <th>green</th>\n",
       "    </tr>\n",
       "  </thead>\n",
       "  <tbody>\n",
       "    <tr>\n",
       "      <th>0</th>\n",
       "      <td>2023-04-23</td>\n",
       "      <td>336</td>\n",
       "      <td>CHEEK</td>\n",
       "      <td>Knives and ____</td>\n",
       "      <td>Whats happening</td>\n",
       "      <td>Uncertain, dodgy</td>\n",
       "      <td>____ Sam, the USA</td>\n",
       "      <td>Removes rind from</td>\n",
       "      <td>Brassed off</td>\n",
       "      <td>Sheepish?</td>\n",
       "      <td>See how the land lies</td>\n",
       "      <td>Toll</td>\n",
       "      <td>Eyelid sores</td>\n",
       "      <td>FORKS</td>\n",
       "      <td>EVENT</td>\n",
       "      <td>DICEY</td>\n",
       "      <td>UNCLE</td>\n",
       "      <td>PEELS</td>\n",
       "      <td>[4, 6, 13, 18, 20, 22]</td>\n",
       "      <td>[8, 14, 23]</td>\n",
       "    </tr>\n",
       "  </tbody>\n",
       "</table>\n",
       "</div>"
      ],
      "text/plain": [
       "        date puzzle_number plusword_solution    clue_across_1  \\\n",
       "0 2023-04-23           336             CHEEK  Knives and ____   \n",
       "\n",
       "     clue_across_2     clue_across_3      clue_across_4      clue_across_5  \\\n",
       "0  Whats happening  Uncertain, dodgy  ____ Sam, the USA  Removes rind from   \n",
       "\n",
       "   clue_down_1 clue_down_2            clue_down_3 clue_down_4   clue_down_5  \\\n",
       "0  Brassed off   Sheepish?  See how the land lies        Toll  Eyelid sores   \n",
       "\n",
       "  answer_1 answer_2 answer_3 answer_4 answer_5                  yellow  \\\n",
       "0    FORKS    EVENT    DICEY    UNCLE    PEELS  [4, 6, 13, 18, 20, 22]   \n",
       "\n",
       "         green  \n",
       "0  [8, 14, 23]  "
      ]
     },
     "execution_count": 5,
     "metadata": {},
     "output_type": "execute_result"
    }
   ],
   "source": [
    "df"
   ]
  },
  {
   "cell_type": "code",
   "execution_count": 14,
   "id": "21c74757-70a8-4af1-9b40-92a0ccc0f290",
   "metadata": {},
   "outputs": [
    {
     "name": "stderr",
     "output_type": "stream",
     "text": [
      "2023-04-24 10:49:42.268 INFO    selenium.webdriver.common.selenium_manager: Executing: /home/tomwh/.local/lib/python3.10/site-packages/selenium/webdriver/common/linux/selenium-manager --browser firefox --output json\n"
     ]
    },
    {
     "name": "stdout",
     "output_type": "stream",
     "text": [
      "something in df\n",
      "empty_df\n",
      "empty_df\n"
     ]
    }
   ],
   "source": [
    "%run mumger.py"
   ]
  },
  {
   "cell_type": "code",
   "execution_count": null,
   "id": "8c231e32-1a39-4c88-a830-ef587b28a8ef",
   "metadata": {},
   "outputs": [],
   "source": []
  }
 ],
 "metadata": {
  "kernelspec": {
   "display_name": "Python 3 (ipykernel)",
   "language": "python",
   "name": "python3"
  },
  "language_info": {
   "codemirror_mode": {
    "name": "ipython",
    "version": 3
   },
   "file_extension": ".py",
   "mimetype": "text/x-python",
   "name": "python",
   "nbconvert_exporter": "python",
   "pygments_lexer": "ipython3",
   "version": "3.10.6"
  }
 },
 "nbformat": 4,
 "nbformat_minor": 5
}
