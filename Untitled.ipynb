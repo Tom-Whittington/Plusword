{
 "cells": [
  {
   "cell_type": "code",
   "execution_count": 1,
   "id": "f1315de1-c5c0-45d0-a57b-c11f0dd59d35",
   "metadata": {
    "tags": []
   },
   "outputs": [],
   "source": [
    "import pandas as pd\n",
    "import json\n",
    "import pymongo\n",
    "import matplotlib.dates as mdates\n",
    "from datetime import datetime"
   ]
  },
  {
   "cell_type": "code",
   "execution_count": 2,
   "id": "2a79e8a2-a1c0-429b-9bc0-0a5d712c99c5",
   "metadata": {},
   "outputs": [],
   "source": [
    "def get_db(write=False):\n",
    "    if write:\n",
    "        connection_string = \"admin_connection_string\"\n",
    "\n",
    "    else:\n",
    "        connection_string = \"connection_string\"\n",
    "\n",
    "    try:\n",
    "        with open(\"local/pass.json\") as file:\n",
    "            file = json.loads(file.read())\n",
    "            connection_string = file.get(connection_string)\n",
    "            client = pymongo.MongoClient(\n",
    "                connection_string)\n",
    "            db = client[\"PlusWord\"]\n",
    "            return db\n",
    "    except Exception as e:\n",
    "        print(e)"
   ]
  },
  {
   "cell_type": "code",
   "execution_count": 3,
   "id": "44fe49b6-f75b-40fa-9464-28e64b3ff9d0",
   "metadata": {},
   "outputs": [],
   "source": [
    "def data_import(collection_name='Times'):\n",
    "    \"\"\"Connects to database and creates dataframe containing all columns. Drops unneeded columns and sets timestamp\n",
    "     datatype. Correct any incorrect time values, sets data times and sorts\"\"\"\n",
    "\n",
    "    # Connects to db and gets collection\n",
    "    db = get_db()\n",
    "    collection = db[collection_name]\n",
    "    df = pd.DataFrame(list(collection.find({})))\n",
    "\n",
    "    return df"
   ]
  },
  {
   "cell_type": "code",
   "execution_count": 4,
   "id": "7167d9be-8916-4901-9774-7af343e801e6",
   "metadata": {},
   "outputs": [],
   "source": [
    "def time_delta_to_num(time_delta):\n",
    "    \"\"\" Takes in time delta and converts it into a number for plotting\"\"\"\n",
    "\n",
    "    # specify a date to use for the times\n",
    "\n",
    "    zero_date = datetime(2022, 6, 20)\n",
    "\n",
    "    zero_num = mdates.date2num(zero_date)\n",
    "\n",
    "    # adds zero_data to timedelta to convert\n",
    "\n",
    "    time_delta_plus_date = [zero_date + time_unit for time_unit in time_delta]\n",
    "\n",
    "    # convert datetimes to numbers\n",
    "\n",
    "    time_delta_as_num = [mins - zero_num for mins in mdates.date2num(time_delta_plus_date)]\n",
    "\n",
    "    return time_delta_as_num"
   ]
  },
  {
   "cell_type": "code",
   "execution_count": 5,
   "id": "34da7556-589c-4f3d-a705-db5f47ecf828",
   "metadata": {},
   "outputs": [],
   "source": [
    "df=data_import()\n",
    "\n",
    "df = df[['load_ts', 'time', 'user']]\n",
    "df['time'] = df['time'].str.replace(r'(^\\d\\d:\\d\\d$)', r'00:\\1', regex=True)\n",
    "df['load_ts'] = pd.to_datetime(df['load_ts'], format='%Y-%m-%d %H:%M:%S.%f')\n",
    "#df['user'] = df['user'].astype('category')\n",
    "df = df.sort_values(by=['load_ts'])\n",
    "df = df.rename(columns={'load_ts': 'timestamp'})\n",
    "df['time_delta'] = pd.to_timedelta(df['time'].astype('timedelta64[ns]'))\n",
    "df['time_delta_as_num'] = time_delta_to_num(pd.to_timedelta(df['time'].astype('string')))\n",
    "df['sub_time_delta_as_num'] = time_delta_to_num(pd.to_timedelta(df['timestamp'].dt.time.astype('string')))\n",
    "\n",
    "\n",
    "df.columns = df.columns.str.capitalize()\n",
    "df = df.set_index('Timestamp')\n",
    "df = df.sort_index(ascending=False)"
   ]
  }
 ],
 "metadata": {
  "kernelspec": {
   "display_name": "Python 3 (ipykernel)",
   "language": "python",
   "name": "python3"
  },
  "language_info": {
   "codemirror_mode": {
    "name": "ipython",
    "version": 3
   },
   "file_extension": ".py",
   "mimetype": "text/x-python",
   "name": "python",
   "nbconvert_exporter": "python",
   "pygments_lexer": "ipython3",
   "version": "3.10.6"
  }
 },
 "nbformat": 4,
 "nbformat_minor": 5
}
