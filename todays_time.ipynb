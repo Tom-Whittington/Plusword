{
 "cells": [
  {
   "cell_type": "code",
   "execution_count": 1,
   "id": "21703451-fbd3-4421-b2e2-47dbf367ebde",
   "metadata": {},
   "outputs": [],
   "source": [
    "import pandas as pd\n",
    "import json\n",
    "import pymongo\n",
    "import matplotlib.dates as mdates\n",
    "from datetime import datetime, date\n",
    "import matplotlib.pyplot as plt\n",
    "import seaborn as sns\n",
    "import numpy as np\n",
    "import random"
   ]
  },
  {
   "cell_type": "code",
   "execution_count": 2,
   "id": "cfcfc12e-4a50-487e-8e8a-5a3487aa1a70",
   "metadata": {},
   "outputs": [],
   "source": [
    "def data_import(include_mums=False):\n",
    "    \"\"\"Connects to database and creates dataframe containing all columns. Drops unneeded columns and sets timestamp\n",
    "     datatype. Correct any incorrect time values, sets data times and sorts\"\"\"\n",
    "\n",
    "    collection_list=['Times']\n",
    "    \n",
    "    if include_mums:\n",
    "        collection_list.append('Mumsnet_Times')\n",
    "    all_records = []\n",
    "\n",
    "    # Connects to db and gets collection\n",
    "    db = get_db()\n",
    "\n",
    "    for collection in collection_list:\n",
    "        records =list(db[collection].find())\n",
    "        all_records.append(records)\n",
    "    \n",
    "    #Flattens list\n",
    "    all_records = [val for sublist in all_records for val in sublist]\n",
    "    \n",
    "    df=pd.DataFrame(all_records)\n",
    "    \n",
    "    # Makes column to indicate which database times are from\n",
    "    non_mums = ['Harvey Williams', 'Sazzle', 'Leah', 'Tom', 'Joe', 'George Sheen', 'Oliver Folkard'] \n",
    "    df['mum'] = np.where(df['user'].isin(non_mums), False, True)\n",
    "    \n",
    "    return df"
   ]
  },
  {
   "cell_type": "code",
   "execution_count": 3,
   "id": "f5436563-9721-40f2-8b30-e8d1a07de1f7",
   "metadata": {},
   "outputs": [],
   "source": [
    "def get_db(write=False):\n",
    "    if write:\n",
    "        connection_string = \"admin_connection_string\"\n",
    "\n",
    "    else:\n",
    "        connection_string = \"connection_string\"\n",
    "\n",
    "    try:\n",
    "        with open(\"local/pass.json\") as file:\n",
    "            file = json.loads(file.read())\n",
    "            connection_string = file.get(connection_string)\n",
    "            client = pymongo.MongoClient(\n",
    "                connection_string)\n",
    "            db = client[\"PlusWord\"]\n",
    "            return db\n",
    "    except Exception as e:\n",
    "        print(e)"
   ]
  },
  {
   "cell_type": "code",
   "execution_count": 4,
   "id": "3e3a5e91-ebf1-440a-9302-a3e0ac050cfb",
   "metadata": {},
   "outputs": [],
   "source": [
    "def format_for_streamlit(df):\n",
    "    \"\"\"Makes df more readable, converts times into plottable numbers and sets index\"\"\"\n",
    "\n",
    "    df = df[['load_ts', 'time', 'user']]\n",
    "    df['time'] = df['time'].str.replace(r'(^\\d\\d:\\d\\d$)', r'00:\\1', regex=True)\n",
    "    df['load_ts'] = pd.to_datetime(df['load_ts'], format='%Y-%m-%d %H:%M:%S.%f')\n",
    "    # df['user'] = df['user'].astype('category')\n",
    "    df = df.sort_values(by=['load_ts'])\n",
    "    df = df.rename(columns={'load_ts': 'timestamp'})\n",
    "    df['time_delta'] = pd.to_timedelta(df['time'].astype('timedelta64[ns]'))\n",
    "    df['time_delta_as_num'] = time_delta_to_num(pd.to_timedelta(df['time'].astype('string')))\n",
    "    df['sub_time_delta_as_num'] = time_delta_to_num(pd.to_timedelta(df['timestamp'].dt.time.astype('string')))\n",
    "\n",
    "\n",
    "    df = df.set_index('timestamp')\n",
    "    df = df.sort_index(ascending=False)\n",
    "\n",
    "    return df"
   ]
  },
  {
   "cell_type": "code",
   "execution_count": 5,
   "id": "7f08847c-96e9-49f9-83c7-fa45996bb559",
   "metadata": {},
   "outputs": [],
   "source": [
    "def format_for_streamlit(df):\n",
    "    \"\"\"Makes df more readable, converts times into plottable numbers and sets index\"\"\"\n",
    "\n",
    "    df = df[['load_ts', 'time', 'user', 'mum']]\n",
    "    df['time'] = df['time'].str.replace(r'(^\\d\\d:\\d\\d$)', r'00:\\1', regex=True)\n",
    "    df['load_ts'] = pd.to_datetime(df['load_ts'], format='%Y-%m-%d %H:%M:%S.%f')\n",
    "    # df['user'] = df['user'].astype('category')\n",
    "    df = df.sort_values(by=['load_ts'])\n",
    "    df = df.rename(columns={'load_ts': 'timestamp'})\n",
    "    df['time_delta'] = pd.to_timedelta(df['time'].astype('timedelta64[ns]'))\n",
    "    df['time_delta_as_num'] = time_delta_to_num(pd.to_timedelta(df['time'].astype('string')))\n",
    "    df['sub_time_delta_as_num'] = time_delta_to_num(pd.to_timedelta(df['timestamp'].dt.time.astype('string')))\n",
    "\n",
    "\n",
    "    df = df.set_index('timestamp')\n",
    "    df = df.sort_index(ascending=False)\n",
    "\n",
    "    return df\n"
   ]
  },
  {
   "cell_type": "code",
   "execution_count": 6,
   "id": "c82992a0-b149-4913-ae9a-042d86d89f94",
   "metadata": {},
   "outputs": [],
   "source": [
    "def time_delta_to_num(time_delta):\n",
    "    \"\"\" Takes in time delta and converts it into a number for plotting\"\"\"\n",
    "\n",
    "    # specify a date to use for the times\n",
    "\n",
    "    zero_date = datetime(2022, 6, 20)\n",
    "\n",
    "    zero_num = mdates.date2num(zero_date)\n",
    "\n",
    "    # adds zero_data to timedelta to convert\n",
    "\n",
    "    time_delta_plus_date = [zero_date + time_unit for time_unit in time_delta]\n",
    "\n",
    "    # convert datetimes to numbers\n",
    "\n",
    "    time_delta_as_num = [mins - zero_num for mins in mdates.date2num(time_delta_plus_date)]\n",
    "\n",
    "    return time_delta_as_num"
   ]
  },
  {
   "cell_type": "code",
   "execution_count": 7,
   "id": "662978ca-f6bd-477d-9c6c-8590307e2181",
   "metadata": {
    "tags": []
   },
   "outputs": [
    {
     "name": "stderr",
     "output_type": "stream",
     "text": [
      "/tmp/ipykernel_11124/1743044916.py:5: SettingWithCopyWarning: \n",
      "A value is trying to be set on a copy of a slice from a DataFrame.\n",
      "Try using .loc[row_indexer,col_indexer] = value instead\n",
      "\n",
      "See the caveats in the documentation: https://pandas.pydata.org/pandas-docs/stable/user_guide/indexing.html#returning-a-view-versus-a-copy\n",
      "  df['time'] = df['time'].str.replace(r'(^\\d\\d:\\d\\d$)', r'00:\\1', regex=True)\n",
      "/tmp/ipykernel_11124/1743044916.py:6: SettingWithCopyWarning: \n",
      "A value is trying to be set on a copy of a slice from a DataFrame.\n",
      "Try using .loc[row_indexer,col_indexer] = value instead\n",
      "\n",
      "See the caveats in the documentation: https://pandas.pydata.org/pandas-docs/stable/user_guide/indexing.html#returning-a-view-versus-a-copy\n",
      "  df['load_ts'] = pd.to_datetime(df['load_ts'], format='%Y-%m-%d %H:%M:%S.%f')\n"
     ]
    }
   ],
   "source": [
    "df=data_import(include_mums=True)\n",
    "df = format_for_streamlit(df)"
   ]
  },
  {
   "cell_type": "code",
   "execution_count": 8,
   "id": "540aef3e-d7de-4e73-8b00-3fb6a453b3c4",
   "metadata": {
    "tags": []
   },
   "outputs": [
    {
     "data": {
      "text/html": [
       "<div>\n",
       "<style scoped>\n",
       "    .dataframe tbody tr th:only-of-type {\n",
       "        vertical-align: middle;\n",
       "    }\n",
       "\n",
       "    .dataframe tbody tr th {\n",
       "        vertical-align: top;\n",
       "    }\n",
       "\n",
       "    .dataframe thead th {\n",
       "        text-align: right;\n",
       "    }\n",
       "</style>\n",
       "<table border=\"1\" class=\"dataframe\">\n",
       "  <thead>\n",
       "    <tr style=\"text-align: right;\">\n",
       "      <th></th>\n",
       "      <th>time</th>\n",
       "      <th>user</th>\n",
       "      <th>mum</th>\n",
       "      <th>time_delta</th>\n",
       "      <th>time_delta_as_num</th>\n",
       "      <th>sub_time_delta_as_num</th>\n",
       "    </tr>\n",
       "    <tr>\n",
       "      <th>timestamp</th>\n",
       "      <th></th>\n",
       "      <th></th>\n",
       "      <th></th>\n",
       "      <th></th>\n",
       "      <th></th>\n",
       "      <th></th>\n",
       "    </tr>\n",
       "  </thead>\n",
       "  <tbody>\n",
       "    <tr>\n",
       "      <th>2023-06-27 15:53:00.000</th>\n",
       "      <td>00:00:44</td>\n",
       "      <td>Floralnomad</td>\n",
       "      <td>True</td>\n",
       "      <td>0 days 00:00:44</td>\n",
       "      <td>0.000509</td>\n",
       "      <td>0.661806</td>\n",
       "    </tr>\n",
       "    <tr>\n",
       "      <th>2023-06-27 12:16:07.688</th>\n",
       "      <td>00:00:52</td>\n",
       "      <td>Oliver Folkard</td>\n",
       "      <td>False</td>\n",
       "      <td>0 days 00:00:52</td>\n",
       "      <td>0.000602</td>\n",
       "      <td>0.511200</td>\n",
       "    </tr>\n",
       "    <tr>\n",
       "      <th>2023-06-27 12:12:32.942</th>\n",
       "      <td>00:00:41</td>\n",
       "      <td>George Sheen</td>\n",
       "      <td>False</td>\n",
       "      <td>0 days 00:00:41</td>\n",
       "      <td>0.000475</td>\n",
       "      <td>0.508715</td>\n",
       "    </tr>\n",
       "    <tr>\n",
       "      <th>2023-06-27 09:53:55.976</th>\n",
       "      <td>00:00:21</td>\n",
       "      <td>Joe</td>\n",
       "      <td>False</td>\n",
       "      <td>0 days 00:00:21</td>\n",
       "      <td>0.000243</td>\n",
       "      <td>0.412453</td>\n",
       "    </tr>\n",
       "    <tr>\n",
       "      <th>2023-06-27 07:31:00.000</th>\n",
       "      <td>00:00:30</td>\n",
       "      <td>Albaniarocks</td>\n",
       "      <td>True</td>\n",
       "      <td>0 days 00:00:30</td>\n",
       "      <td>0.000347</td>\n",
       "      <td>0.313194</td>\n",
       "    </tr>\n",
       "    <tr>\n",
       "      <th>...</th>\n",
       "      <td>...</td>\n",
       "      <td>...</td>\n",
       "      <td>...</td>\n",
       "      <td>...</td>\n",
       "      <td>...</td>\n",
       "      <td>...</td>\n",
       "    </tr>\n",
       "    <tr>\n",
       "      <th>2022-06-04 09:45:00.000</th>\n",
       "      <td>00:36:59</td>\n",
       "      <td>Joe</td>\n",
       "      <td>False</td>\n",
       "      <td>0 days 00:36:59</td>\n",
       "      <td>0.025683</td>\n",
       "      <td>0.406250</td>\n",
       "    </tr>\n",
       "    <tr>\n",
       "      <th>2022-06-04 00:24:00.000</th>\n",
       "      <td>00:13:16</td>\n",
       "      <td>Harvey Williams</td>\n",
       "      <td>False</td>\n",
       "      <td>0 days 00:13:16</td>\n",
       "      <td>0.009213</td>\n",
       "      <td>0.016667</td>\n",
       "    </tr>\n",
       "    <tr>\n",
       "      <th>2022-06-03 13:29:00.000</th>\n",
       "      <td>00:14:48</td>\n",
       "      <td>Harvey Williams</td>\n",
       "      <td>False</td>\n",
       "      <td>0 days 00:14:48</td>\n",
       "      <td>0.010278</td>\n",
       "      <td>0.561806</td>\n",
       "    </tr>\n",
       "    <tr>\n",
       "      <th>2022-06-03 06:57:00.000</th>\n",
       "      <td>00:03:30</td>\n",
       "      <td>Joe</td>\n",
       "      <td>False</td>\n",
       "      <td>0 days 00:03:30</td>\n",
       "      <td>0.002431</td>\n",
       "      <td>0.289583</td>\n",
       "    </tr>\n",
       "    <tr>\n",
       "      <th>2022-06-02 15:18:00.000</th>\n",
       "      <td>00:14:14</td>\n",
       "      <td>Harvey Williams</td>\n",
       "      <td>False</td>\n",
       "      <td>0 days 00:14:14</td>\n",
       "      <td>0.009884</td>\n",
       "      <td>0.637500</td>\n",
       "    </tr>\n",
       "  </tbody>\n",
       "</table>\n",
       "<p>3947 rows × 6 columns</p>\n",
       "</div>"
      ],
      "text/plain": [
       "                             time             user    mum      time_delta  \\\n",
       "timestamp                                                                   \n",
       "2023-06-27 15:53:00.000  00:00:44      Floralnomad   True 0 days 00:00:44   \n",
       "2023-06-27 12:16:07.688  00:00:52   Oliver Folkard  False 0 days 00:00:52   \n",
       "2023-06-27 12:12:32.942  00:00:41     George Sheen  False 0 days 00:00:41   \n",
       "2023-06-27 09:53:55.976  00:00:21              Joe  False 0 days 00:00:21   \n",
       "2023-06-27 07:31:00.000  00:00:30     Albaniarocks   True 0 days 00:00:30   \n",
       "...                           ...              ...    ...             ...   \n",
       "2022-06-04 09:45:00.000  00:36:59              Joe  False 0 days 00:36:59   \n",
       "2022-06-04 00:24:00.000  00:13:16  Harvey Williams  False 0 days 00:13:16   \n",
       "2022-06-03 13:29:00.000  00:14:48  Harvey Williams  False 0 days 00:14:48   \n",
       "2022-06-03 06:57:00.000  00:03:30              Joe  False 0 days 00:03:30   \n",
       "2022-06-02 15:18:00.000  00:14:14  Harvey Williams  False 0 days 00:14:14   \n",
       "\n",
       "                         time_delta_as_num  sub_time_delta_as_num  \n",
       "timestamp                                                          \n",
       "2023-06-27 15:53:00.000           0.000509               0.661806  \n",
       "2023-06-27 12:16:07.688           0.000602               0.511200  \n",
       "2023-06-27 12:12:32.942           0.000475               0.508715  \n",
       "2023-06-27 09:53:55.976           0.000243               0.412453  \n",
       "2023-06-27 07:31:00.000           0.000347               0.313194  \n",
       "...                                    ...                    ...  \n",
       "2022-06-04 09:45:00.000           0.025683               0.406250  \n",
       "2022-06-04 00:24:00.000           0.009213               0.016667  \n",
       "2022-06-03 13:29:00.000           0.010278               0.561806  \n",
       "2022-06-03 06:57:00.000           0.002431               0.289583  \n",
       "2022-06-02 15:18:00.000           0.009884               0.637500  \n",
       "\n",
       "[3947 rows x 6 columns]"
      ]
     },
     "execution_count": 8,
     "metadata": {},
     "output_type": "execute_result"
    }
   ],
   "source": [
    "df"
   ]
  },
  {
   "cell_type": "code",
   "execution_count": 9,
   "id": "ddeaa8f8-c494-4608-89c7-fc37a320e623",
   "metadata": {},
   "outputs": [
    {
     "ename": "KeyError",
     "evalue": "'mum'",
     "output_type": "error",
     "traceback": [
      "\u001b[0;31m---------------------------------------------------------------------------\u001b[0m",
      "\u001b[0;31mKeyError\u001b[0m                                  Traceback (most recent call last)",
      "\u001b[0;32m~/.local/lib/python3.10/site-packages/pandas/core/indexes/base.py\u001b[0m in \u001b[0;36mget_loc\u001b[0;34m(self, key, method, tolerance)\u001b[0m\n\u001b[1;32m   3801\u001b[0m             \u001b[0;32mtry\u001b[0m\u001b[0;34m:\u001b[0m\u001b[0;34m\u001b[0m\u001b[0;34m\u001b[0m\u001b[0m\n\u001b[0;32m-> 3802\u001b[0;31m                 \u001b[0;32mreturn\u001b[0m \u001b[0mself\u001b[0m\u001b[0;34m.\u001b[0m\u001b[0m_engine\u001b[0m\u001b[0;34m.\u001b[0m\u001b[0mget_loc\u001b[0m\u001b[0;34m(\u001b[0m\u001b[0mcasted_key\u001b[0m\u001b[0;34m)\u001b[0m\u001b[0;34m\u001b[0m\u001b[0;34m\u001b[0m\u001b[0m\n\u001b[0m\u001b[1;32m   3803\u001b[0m             \u001b[0;32mexcept\u001b[0m \u001b[0mKeyError\u001b[0m \u001b[0;32mas\u001b[0m \u001b[0merr\u001b[0m\u001b[0;34m:\u001b[0m\u001b[0;34m\u001b[0m\u001b[0;34m\u001b[0m\u001b[0m\n",
      "\u001b[0;32m~/.local/lib/python3.10/site-packages/pandas/_libs/index.pyx\u001b[0m in \u001b[0;36mpandas._libs.index.IndexEngine.get_loc\u001b[0;34m()\u001b[0m\n",
      "\u001b[0;32m~/.local/lib/python3.10/site-packages/pandas/_libs/index.pyx\u001b[0m in \u001b[0;36mpandas._libs.index.IndexEngine.get_loc\u001b[0;34m()\u001b[0m\n",
      "\u001b[0;32mpandas/_libs/hashtable_class_helper.pxi\u001b[0m in \u001b[0;36mpandas._libs.hashtable.PyObjectHashTable.get_item\u001b[0;34m()\u001b[0m\n",
      "\u001b[0;32mpandas/_libs/hashtable_class_helper.pxi\u001b[0m in \u001b[0;36mpandas._libs.hashtable.PyObjectHashTable.get_item\u001b[0;34m()\u001b[0m\n",
      "\u001b[0;31mKeyError\u001b[0m: 'mum'",
      "\nThe above exception was the direct cause of the following exception:\n",
      "\u001b[0;31mKeyError\u001b[0m                                  Traceback (most recent call last)",
      "\u001b[0;32m/tmp/ipykernel_11124/8226091.py\u001b[0m in \u001b[0;36m<module>\u001b[0;34m\u001b[0m\n\u001b[1;32m     15\u001b[0m \u001b[0;31m# Selects 20 hardest\u001b[0m\u001b[0;34m\u001b[0m\u001b[0;34m\u001b[0m\u001b[0m\n\u001b[1;32m     16\u001b[0m \u001b[0;34m\u001b[0m\u001b[0m\n\u001b[0;32m---> 17\u001b[0;31m \u001b[0mdf_difficulty\u001b[0m\u001b[0;34m[\u001b[0m\u001b[0;34m'mum'\u001b[0m\u001b[0;34m]\u001b[0m \u001b[0;34m=\u001b[0m \u001b[0mdf_difficulty\u001b[0m\u001b[0;34m[\u001b[0m\u001b[0;34m'mum'\u001b[0m\u001b[0;34m]\u001b[0m\u001b[0;34m.\u001b[0m\u001b[0mastype\u001b[0m\u001b[0;34m(\u001b[0m\u001b[0;34m'int64'\u001b[0m\u001b[0;34m)\u001b[0m\u001b[0;34m\u001b[0m\u001b[0;34m\u001b[0m\u001b[0m\n\u001b[0m\u001b[1;32m     18\u001b[0m \u001b[0;34m\u001b[0m\u001b[0m\n\u001b[1;32m     19\u001b[0m \u001b[0mdf_difficulty\u001b[0m\u001b[0;34m[\u001b[0m\u001b[0;34m'time'\u001b[0m\u001b[0;34m]\u001b[0m \u001b[0;34m=\u001b[0m \u001b[0mmdates\u001b[0m\u001b[0;34m.\u001b[0m\u001b[0mnum2timedelta\u001b[0m\u001b[0;34m(\u001b[0m\u001b[0mdf_difficulty\u001b[0m\u001b[0;34m[\u001b[0m\u001b[0;34m'time_delta_as_num'\u001b[0m\u001b[0;34m]\u001b[0m\u001b[0;34m)\u001b[0m\u001b[0;34m\u001b[0m\u001b[0;34m\u001b[0m\u001b[0m\n",
      "\u001b[0;32m~/.local/lib/python3.10/site-packages/pandas/core/frame.py\u001b[0m in \u001b[0;36m__getitem__\u001b[0;34m(self, key)\u001b[0m\n\u001b[1;32m   3805\u001b[0m             \u001b[0;32mif\u001b[0m \u001b[0mself\u001b[0m\u001b[0;34m.\u001b[0m\u001b[0mcolumns\u001b[0m\u001b[0;34m.\u001b[0m\u001b[0mnlevels\u001b[0m \u001b[0;34m>\u001b[0m \u001b[0;36m1\u001b[0m\u001b[0;34m:\u001b[0m\u001b[0;34m\u001b[0m\u001b[0;34m\u001b[0m\u001b[0m\n\u001b[1;32m   3806\u001b[0m                 \u001b[0;32mreturn\u001b[0m \u001b[0mself\u001b[0m\u001b[0;34m.\u001b[0m\u001b[0m_getitem_multilevel\u001b[0m\u001b[0;34m(\u001b[0m\u001b[0mkey\u001b[0m\u001b[0;34m)\u001b[0m\u001b[0;34m\u001b[0m\u001b[0;34m\u001b[0m\u001b[0m\n\u001b[0;32m-> 3807\u001b[0;31m             \u001b[0mindexer\u001b[0m \u001b[0;34m=\u001b[0m \u001b[0mself\u001b[0m\u001b[0;34m.\u001b[0m\u001b[0mcolumns\u001b[0m\u001b[0;34m.\u001b[0m\u001b[0mget_loc\u001b[0m\u001b[0;34m(\u001b[0m\u001b[0mkey\u001b[0m\u001b[0;34m)\u001b[0m\u001b[0;34m\u001b[0m\u001b[0;34m\u001b[0m\u001b[0m\n\u001b[0m\u001b[1;32m   3808\u001b[0m             \u001b[0;32mif\u001b[0m \u001b[0mis_integer\u001b[0m\u001b[0;34m(\u001b[0m\u001b[0mindexer\u001b[0m\u001b[0;34m)\u001b[0m\u001b[0;34m:\u001b[0m\u001b[0;34m\u001b[0m\u001b[0;34m\u001b[0m\u001b[0m\n\u001b[1;32m   3809\u001b[0m                 \u001b[0mindexer\u001b[0m \u001b[0;34m=\u001b[0m \u001b[0;34m[\u001b[0m\u001b[0mindexer\u001b[0m\u001b[0;34m]\u001b[0m\u001b[0;34m\u001b[0m\u001b[0;34m\u001b[0m\u001b[0m\n",
      "\u001b[0;32m~/.local/lib/python3.10/site-packages/pandas/core/indexes/base.py\u001b[0m in \u001b[0;36mget_loc\u001b[0;34m(self, key, method, tolerance)\u001b[0m\n\u001b[1;32m   3802\u001b[0m                 \u001b[0;32mreturn\u001b[0m \u001b[0mself\u001b[0m\u001b[0;34m.\u001b[0m\u001b[0m_engine\u001b[0m\u001b[0;34m.\u001b[0m\u001b[0mget_loc\u001b[0m\u001b[0;34m(\u001b[0m\u001b[0mcasted_key\u001b[0m\u001b[0;34m)\u001b[0m\u001b[0;34m\u001b[0m\u001b[0;34m\u001b[0m\u001b[0m\n\u001b[1;32m   3803\u001b[0m             \u001b[0;32mexcept\u001b[0m \u001b[0mKeyError\u001b[0m \u001b[0;32mas\u001b[0m \u001b[0merr\u001b[0m\u001b[0;34m:\u001b[0m\u001b[0;34m\u001b[0m\u001b[0;34m\u001b[0m\u001b[0m\n\u001b[0;32m-> 3804\u001b[0;31m                 \u001b[0;32mraise\u001b[0m \u001b[0mKeyError\u001b[0m\u001b[0;34m(\u001b[0m\u001b[0mkey\u001b[0m\u001b[0;34m)\u001b[0m \u001b[0;32mfrom\u001b[0m \u001b[0merr\u001b[0m\u001b[0;34m\u001b[0m\u001b[0;34m\u001b[0m\u001b[0m\n\u001b[0m\u001b[1;32m   3805\u001b[0m             \u001b[0;32mexcept\u001b[0m \u001b[0mTypeError\u001b[0m\u001b[0;34m:\u001b[0m\u001b[0;34m\u001b[0m\u001b[0;34m\u001b[0m\u001b[0m\n\u001b[1;32m   3806\u001b[0m                 \u001b[0;31m# If we have a listlike key, _check_indexing_error will raise\u001b[0m\u001b[0;34m\u001b[0m\u001b[0;34m\u001b[0m\u001b[0m\n",
      "\u001b[0;31mKeyError\u001b[0m: 'mum'"
     ]
    }
   ],
   "source": [
    "df_difficulty = df.copy()\n",
    "\n",
    "df_difficulty['date'] = df_difficulty.index.date\n",
    "\n",
    "more_than_3_entries = df_difficulty['date'].value_counts() > 3\n",
    "\n",
    "df_difficulty['mum'] = df_difficulty['mum'].astype('int64')\n",
    "\n",
    "df_difficulty = df_difficulty.groupby([['date', 'mum']])['time_delta_as_num'].mean()\n",
    "\n",
    "# df_difficulty[more_than_3_entries]\n",
    "\n",
    "df_difficulty = df_difficulty.reset_index()\n",
    "\n",
    "df_difficulty = df_difficulty.sort_values(by='time_delta_as_num', ascending=True)\n",
    "\n",
    "# Selects 20 hardest\n",
    "\n",
    "\n",
    "\n",
    "df_difficulty['time'] = mdates.num2timedelta(df_difficulty['time_delta_as_num'])\n",
    "\n",
    "fig, ax = plt.subplots(figsize=(10, 5))\n",
    "\n",
    "fig = sns.scatterplot(data=df_difficulty,\n",
    "                      x='date',\n",
    "                      y='time_delta_as_num',\n",
    "                      hue='mum')\n",
    "\n",
    "ax.yaxis_date()\n",
    "\n",
    "ax.yaxis.set_major_formatter(mdates.DateFormatter(\"%M:%S\"))\n",
    "\n",
    "ax.xaxis.set_major_formatter(mdates.DateFormatter(\"%b %Y\"))\n",
    "\n",
    "ax.set_xlabel(None)\n",
    "\n",
    "ax.set_ylabel('Mean Time /mins')\n",
    "\n",
    "ax.set_ylim(ymin=0)\n",
    "\n",
    "# Formats df\n",
    "\n",
    "df_difficulty = time_delta_as_num_to_time(df_difficulty)\n",
    "\n",
    "df_difficulty = df_difficulty[['date', 'Time']]\n",
    "df_difficulty = df_difficulty.set_index('date')"
   ]
  },
  {
   "cell_type": "code",
   "execution_count": null,
   "id": "26a4b408-4455-4af4-8944-41f3ad6c542a",
   "metadata": {},
   "outputs": [],
   "source": [
    "df"
   ]
  },
  {
   "cell_type": "code",
   "execution_count": null,
   "id": "23bfa908-d8e3-497c-87b9-3501946a70c5",
   "metadata": {
    "tags": []
   },
   "outputs": [],
   "source": [
    "df"
   ]
  },
  {
   "cell_type": "code",
   "execution_count": null,
   "id": "086c8e52-583b-4456-a07a-fd8ee153ee55",
   "metadata": {
    "tags": []
   },
   "outputs": [],
   "source": [
    "df.user.value_counts()"
   ]
  },
  {
   "cell_type": "code",
   "execution_count": null,
   "id": "491e519c-255b-4631-8120-5837cd1c124a",
   "metadata": {
    "tags": []
   },
   "outputs": [],
   "source": [
    "less_than_5_entries = df['user'].value_counts() > 5\n"
   ]
  },
  {
   "cell_type": "code",
   "execution_count": null,
   "id": "f2303925-3c27-4e94-82d9-577d6a51c059",
   "metadata": {
    "tags": []
   },
   "outputs": [],
   "source": [
    "less_than_5_entries"
   ]
  },
  {
   "cell_type": "code",
   "execution_count": null,
   "id": "2e832418-9cc2-4492-b3d6-102a61b2e3cf",
   "metadata": {
    "tags": []
   },
   "outputs": [],
   "source": [
    "df = df.groupby(df[\"user\"])[\"time_delta_as_num\"].max()\n",
    "df"
   ]
  },
  {
   "cell_type": "code",
   "execution_count": null,
   "id": "cbc649c5-378f-45f2-85b3-16035b068f90",
   "metadata": {
    "tags": []
   },
   "outputs": [],
   "source": [
    "df = df[less_than_5_entries]\n",
    "df"
   ]
  },
  {
   "cell_type": "code",
   "execution_count": null,
   "id": "a2e19777-93df-4ce3-b310-40c0d1961a86",
   "metadata": {
    "tags": []
   },
   "outputs": [],
   "source": [
    "df = df.reset_index()\n",
    "\n",
    "df = df.sort_values(by='time_delta_as_num', ascending=False)\n",
    "df"
   ]
  },
  {
   "cell_type": "code",
   "execution_count": null,
   "id": "58d0371f-7b05-46eb-b090-20cbb8035dea",
   "metadata": {
    "tags": []
   },
   "outputs": [],
   "source": [
    "fig, ax = plt.subplots(figsize=(10, 5))\n",
    "\n",
    "fig = sns.barplot(data=df,\n",
    "                  x=\"user\",\n",
    "                  y=\"time_delta_as_num\",\n",
    "                  ).set(\n",
    "    ylabel='Time /mins',\n",
    "    xlabel=None)\n",
    "\n",
    "ax.yaxis_date()\n",
    "\n",
    "ax.yaxis.set_major_formatter(mdates.DateFormatter(\"%H:%M:%S\"))\n",
    "\n",
    "plt.show()"
   ]
  },
  {
   "cell_type": "code",
   "execution_count": null,
   "id": "3e32a465-7a35-40b1-add2-bfa6b85aebc1",
   "metadata": {
    "tags": []
   },
   "outputs": [],
   "source": [
    "pal = sns.color_palette(\"hls\", 20)"
   ]
  },
  {
   "cell_type": "code",
   "execution_count": null,
   "id": "83184e6e-4a40-4165-b41d-f4f36dec1aae",
   "metadata": {
    "tags": []
   },
   "outputs": [],
   "source": [
    "pal"
   ]
  },
  {
   "cell_type": "code",
   "execution_count": null,
   "id": "77ef63f4-10ba-467d-b016-ab3462bc5570",
   "metadata": {
    "tags": []
   },
   "outputs": [],
   "source": []
  },
  {
   "cell_type": "code",
   "execution_count": null,
   "id": "0b4bf0ae-610a-4503-a359-4223733cf50d",
   "metadata": {},
   "outputs": [],
   "source": []
  }
 ],
 "metadata": {
  "kernelspec": {
   "display_name": "Python 3 (ipykernel)",
   "language": "python",
   "name": "python3"
  },
  "language_info": {
   "codemirror_mode": {
    "name": "ipython",
    "version": 3
   },
   "file_extension": ".py",
   "mimetype": "text/x-python",
   "name": "python",
   "nbconvert_exporter": "python",
   "pygments_lexer": "ipython3",
   "version": "3.10.6"
  }
 },
 "nbformat": 4,
 "nbformat_minor": 5
}
